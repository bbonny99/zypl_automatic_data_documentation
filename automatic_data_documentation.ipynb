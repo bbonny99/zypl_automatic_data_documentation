{
 "cells": [
  {
   "cell_type": "code",
   "execution_count": 1,
   "id": "ad232491",
   "metadata": {},
   "outputs": [],
   "source": [
    "import pandas as pd"
   ]
  },
  {
   "cell_type": "code",
   "execution_count": 3,
   "id": "bf111150",
   "metadata": {},
   "outputs": [],
   "source": [
    "data_path = '/Users/apple/Desktop/for_sample_test.xlsx'\n",
    "df = pd.read_excel(data_path)"
   ]
  },
  {
   "cell_type": "code",
   "execution_count": 5,
   "id": "51f4604d",
   "metadata": {},
   "outputs": [],
   "source": [
    "output_data = pd.DataFrame(df.dtypes).reset_index()\\\n",
    "                                        .rename(columns = {'index': 'column_name', 0: 'data_type'})"
   ]
  },
  {
   "cell_type": "code",
   "execution_count": 28,
   "id": "e6440563",
   "metadata": {},
   "outputs": [],
   "source": [
    "def inspect(df_name:str, col_cat:list=None, path_save:str=None):\n",
    "    \n",
    "    '''\n",
    "    Function that inspects data types and unique valies for categorical columns\n",
    "    for further documentation and history\n",
    "    df_name: dataframe for the inspection\n",
    "    col_cat: categorical columns that we need to get unique values\n",
    "    path_save: directory and the name of the file to save in excel format .xlsx\n",
    "    '''\n",
    "    try:\n",
    "        if df_name.split('.')[-1] == 'xlsx':\n",
    "            df = pd.read_excel(df_name)\n",
    "        elif df_name.split('.')[-1] == 'csv':\n",
    "            df = pd.read_csv(df_name)\n",
    "        else:\n",
    "            return 'Upload xlsx or csv!'\n",
    "    except Exception as e:\n",
    "        raise ValueError(f'No such file in directory, {df_name}')\n",
    "        \n",
    "    \n",
    "    \n",
    "    if col_cat == None:\n",
    "        temp1 = pd.DataFrame(df.dtypes).reset_index().rename(columns={'index': 'column_name', 0: 'data_type'})\n",
    "        temp1['description']=None\n",
    "        for i in temp1['column_name']:\n",
    "            if not (pd.api.types.is_numeric_dtype(df[i]) | pd.api.types.is_datetime64_any_dtype(df[i])):\n",
    "                temp1.loc[temp1['column_name']==i,'allowed_values'] = ', '.join(df[i].unique())\n",
    "        temp1.allowed_values.fillna('Not categorical type', inplace=True)\n",
    "    \n",
    "    \n",
    "    \n",
    "#     If col_cat is given\n",
    "    else:\n",
    "        \n",
    "        [col_cat.remove(i) for i in col_cat if (pd.api.types.is_numeric_dtype(df[i]) | pd.api.types.is_datetime64_any_dtype(df[i]))]\n",
    "        temp1 = pd.DataFrame(df[col_cat].dtypes).reset_index().rename(columns={'index': 'column_name', 0: 'data_type'})\n",
    "        temp1['description']= None\n",
    "        \n",
    "        for i in col_cat:\n",
    "                temp1.loc[temp1['column_name']==i,'allowed_values'] = ', '.join(df[col_cat][i].unique())\n",
    "\n",
    "    df_name='.'.join(df_name.split('.')[:-1])\n",
    "    try:\n",
    "        if path_save == None:\n",
    "            temp1.to_excel(f'./{df_name}_desc' + \".xlsx\")\n",
    "        else:\n",
    "            temp1.to_excel(f'{\"/\".join(path_save.split(\"/\")[:-1])}/{df_name.split(\"/\")[-1]}_desc' + \".xlsx\")\n",
    "        return \"DONE\"\n",
    "    except Exception as e:\n",
    "        raise ValueError(f'No such directory, {path_save}!')\n",
    "    "
   ]
  },
  {
   "cell_type": "code",
   "execution_count": null,
   "id": "d21e3733",
   "metadata": {},
   "outputs": [],
   "source": [
    "%%time\n",
    "inspect(df_name='/Users/apple/Desktop/for_sample_test.xlsx', col_cat=['Family status','Nationality','Age'], path_save='/Users/apple/Desktop/')\n",
    "# inspect(df_name='for.sample.test.xlsx',path_save='/Users/apple/Desktop/')\n",
    "\n",
    "# inspect(df_name='for.sample.test.xlsx',path_save='/Users/apple/Deskto/')\n",
    "# inspect(df_name='for.sample.tes.xlsx',path_save='/Users/apple/Desktop/')"
   ]
  },
  {
   "cell_type": "code",
   "execution_count": null,
   "id": "6f2caf7c",
   "metadata": {},
   "outputs": [],
   "source": []
  }
 ],
 "metadata": {
  "kernelspec": {
   "display_name": "Python 3",
   "language": "python",
   "name": "python3"
  },
  "language_info": {
   "codemirror_mode": {
    "name": "ipython",
    "version": 3
   },
   "file_extension": ".py",
   "mimetype": "text/x-python",
   "name": "python",
   "nbconvert_exporter": "python",
   "pygments_lexer": "ipython3",
   "version": "3.8.8"
  },
  "toc": {
   "base_numbering": 1,
   "nav_menu": {},
   "number_sections": true,
   "sideBar": true,
   "skip_h1_title": false,
   "title_cell": "Table of Contents",
   "title_sidebar": "Contents",
   "toc_cell": false,
   "toc_position": {},
   "toc_section_display": true,
   "toc_window_display": false
  }
 },
 "nbformat": 4,
 "nbformat_minor": 5
}
